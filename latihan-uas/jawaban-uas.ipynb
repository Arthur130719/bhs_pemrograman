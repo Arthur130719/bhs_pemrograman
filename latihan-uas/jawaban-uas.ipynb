{
 "cells": [
  {
   "cell_type": "markdown",
   "metadata": {},
   "source": [
    "# JAWABAN ANALISA UAS\n",
    "# STUDI KASUS DENGAN TEMA DATA PARTNER ATAU KERJASAMA"
   ]
  },
  {
   "cell_type": "markdown",
   "metadata": {},
   "source": [
    "NAMA : SATRIA ADI WIJAYA"
   ]
  },
  {
   "cell_type": "markdown",
   "metadata": {},
   "source": [
    "NIM : 20230801102"
   ]
  },
  {
   "cell_type": "markdown",
   "metadata": {},
   "source": [
    "## PARTNER ATAU KERJASAMA\n",
    "\n",
    "# Partner atau kerjasama adalah hubungan antara dua pihak atau lebih yang bekerja sama untuk mencapai tujuan bersama.\n",
    "\n",
    "## ANALISIS 5W 1H\n",
    "\n",
    "1. Who (Siapa):\n",
    "\n",
    "Siapa saja yang terlibat dalam kerjasama?\n",
    "Contoh: Perusahaan A dan Perusahaan B, tim pemasaran, tim pengembangan produk, dll.\n",
    "\n",
    "2. What (Apa):\n",
    "\n",
    "Apa yang dimaksud dengan kerjasama ini?\n",
    "Contoh: Kerjasama untuk mengembangkan produk baru, joint venture, aliansi strategis, dll.\n",
    "\n",
    "3. Where (Di mana):\n",
    "\n",
    "Di mana kerjasama ini berlangsung?\n",
    "Contoh: Di kantor pusat Perusahaan A, di fasilitas produksi Perusahaan B, secara online melalui platform kolaborasi, dll.\n",
    "\n",
    "4. When (Kapan):\n",
    "\n",
    "Kapan kerjasama ini dimulai dan berapa lama akan berlangsung?\n",
    "Contoh: Kerjasama dimulai pada Januari 2024 dan akan berlangsung selama 2 tahun.\n",
    "\n",
    "5. Why (Mengapa):\n",
    "\n",
    "Mengapa kerjasama ini penting atau diperlukan?\n",
    "Contoh: Untuk memasuki pasar baru, berbagi risiko dan biaya, meningkatkan kapasitas inovasi, dll.\n",
    "\n",
    "6. How (Bagaimana):\n",
    "\n",
    "Bagaimana kerjasama ini akan dijalankan dan apa langkah-langkahnya?\n",
    "Contoh: Melalui perjanjian formal, pembagian tugas dan tanggung jawab yang jelas, penggunaan teknologi kolaborasi, dll.\n",
    "\n",
    "## Analisis SWOT\n",
    "\n",
    "1. Strengths (Kekuatan)\n",
    "\n",
    "Kekuatan dari masing-masing pihak dalam kerjasama.\n",
    "Sumber daya yang tersedia dan dapat digunakan.\n",
    "Keahlian atau teknologi yang dimiliki oleh mitra.\n",
    "\n",
    "2. Weaknesses (Kelemahan)\n",
    "\n",
    "Kelemahan atau keterbatasan yang ada dalam kerjasama.\n",
    "Risiko kebocoran atau penyalahgunaan data.\n",
    "Kurangnya pengalaman atau keahlian dalam manajemen data.\n",
    "\n",
    "3. Opportunities (Peluang)\n",
    "\n",
    "Peluang pasar atau pengembangan yang bisa diperoleh dari kerjasama ini.\n",
    "Kemungkinan inovasi baru yang dapat dihasilkan.\n",
    "Manfaat jangka panjang dari hubungan kerjasama.\n",
    "\n",
    "4. Threats (Ancaman)\n",
    "\n",
    "Ancaman dari pesaing yang juga melakukan kerjasama serupa.\n",
    "Risiko hukum atau regulasi terkait dengan data sharing.\n",
    "Ancaman dari perubahan teknologi yang dapat mempengaruhi kerjasama.\n"
   ]
  }
 ],
 "metadata": {
  "language_info": {
   "name": "python"
  }
 },
 "nbformat": 4,
 "nbformat_minor": 2
}
